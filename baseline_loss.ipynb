{
 "cells": [
  {
   "cell_type": "code",
   "execution_count": 21,
   "id": "ded5bf63-cec6-4891-bda4-8dc84ea0ac83",
   "metadata": {
    "tags": []
   },
   "outputs": [],
   "source": [
    "# Imports\n",
    "import numpy as np\n",
    "import matplotlib.pyplot as plt\n",
    "import cv2\n",
    "import os\n",
    "from sklearn.metrics import mean_squared_error"
   ]
  },
  {
   "cell_type": "code",
   "execution_count": 2,
   "id": "975c3b24-5f51-429d-9847-2b968f64917d",
   "metadata": {
    "tags": []
   },
   "outputs": [],
   "source": [
    "# Setup\n",
    "plt.rcParams[\"figure.figsize\"] = [9, 16]"
   ]
  },
  {
   "cell_type": "code",
   "execution_count": 3,
   "id": "07241f93-e40d-47a0-9d5d-483bafe831ef",
   "metadata": {
    "tags": []
   },
   "outputs": [],
   "source": [
    "# Path helpers\n",
    "blurred_test_path = os.path.join('clean_data', 'test', 'blur')\n",
    "sharp_test_path = os.path.join('clean_data', 'test', 'sharp')"
   ]
  },
  {
   "cell_type": "code",
   "execution_count": 40,
   "id": "8962e350-87bd-4b70-a1fb-2429dcdd092a",
   "metadata": {
    "tags": []
   },
   "outputs": [],
   "source": [
    "# Get image filenames from folder\n",
    "def get_picture_filenames(folder_path):\n",
    "    files = os.listdir(folder_path)\n",
    "    return [f for f in files if f.endswith(\".png\")]"
   ]
  },
  {
   "cell_type": "code",
   "execution_count": 41,
   "id": "113936fa-0837-43da-8e0d-ae1c4b586483",
   "metadata": {
    "tags": []
   },
   "outputs": [],
   "source": [
    "# Load image from folder\n",
    "def load_picture_from_folder(filename, file_path):\n",
    "    picture = cv2.imread(os.path.join(file_path, filename))\n",
    "    return picture/255 # Pixels between 0 and 1"
   ]
  },
  {
   "cell_type": "code",
   "execution_count": 59,
   "id": "9ed82743-a7b3-4734-9ec0-3b536d50a72c",
   "metadata": {
    "tags": []
   },
   "outputs": [],
   "source": [
    "# Error calculations\n",
    "def calc_mse(image1, image2):\n",
    "    mse = np.sum((image1.astype(\"float\") - image2.astype(\"float\")) ** 2) # Calculate pixel differences\n",
    "    mse /= float(image1.shape[0] * image2.shape[1]) # Divide by the number of pixels to get mean\n",
    "    return mse\n",
    "\n",
    "def calc_mae(image1, image2):\n",
    "    mae = np.sum(np.abs((image1.astype(\"float\") - image2.astype(\"float\")))) # Calculate pixel differences\n",
    "    mae /= float(image1.shape[0] * image2.shape[1]) # Divide by the number of pixels to get mean\n",
    "    return mae"
   ]
  },
  {
   "cell_type": "code",
   "execution_count": 60,
   "id": "b7242bec-06af-4ac4-8866-c9898a76ff64",
   "metadata": {
    "tags": []
   },
   "outputs": [
    {
     "data": {
      "text/plain": [
       "0.09685257173848512"
      ]
     },
     "execution_count": 60,
     "metadata": {},
     "output_type": "execute_result"
    }
   ],
   "source": [
    "# Calculate mae for test set (for original blurred and sharp images)\n",
    "filenames = get_picture_filenames(blurred_test_path)\n",
    "\n",
    "loss_list = []\n",
    "loss_fn = calc_mae\n",
    "while filenames:\n",
    "    filename = filenames.pop(0)\n",
    "    blurred_test = cv2.imread(os.path.join(blurred_test_path, filename))/255\n",
    "    sharp_test = cv2.imread(os.path.join(sharp_test_path, filename))/255\n",
    "    loss_list.append(calc_mae(sharp_test, blurred_test))\n",
    "final_loss = np.mean(loss_list)\n",
    "final_loss"
   ]
  }
 ],
 "metadata": {
  "kernelspec": {
   "display_name": "pov_new",
   "language": "python",
   "name": "pov_new"
  },
  "language_info": {
   "codemirror_mode": {
    "name": "ipython",
    "version": 3
   },
   "file_extension": ".py",
   "mimetype": "text/x-python",
   "name": "python",
   "nbconvert_exporter": "python",
   "pygments_lexer": "ipython3",
   "version": "3.10.10"
  }
 },
 "nbformat": 4,
 "nbformat_minor": 5
}
