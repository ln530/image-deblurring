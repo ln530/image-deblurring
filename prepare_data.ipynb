{
 "cells": [
  {
   "cell_type": "code",
   "execution_count": 1,
   "id": "18fa12f2-3a4a-46fb-a20a-7a033a3d68f1",
   "metadata": {
    "tags": []
   },
   "outputs": [],
   "source": [
    "# Imports\n",
    "import os\n",
    "import shutil\n",
    "from tqdm import tqdm"
   ]
  },
  {
   "cell_type": "code",
   "execution_count": 3,
   "id": "c219e87a-e5e0-430a-9cd9-0100956076a9",
   "metadata": {
    "tags": []
   },
   "outputs": [],
   "source": [
    "# Helpers\n",
    "data_path = 'Datasets'"
   ]
  },
  {
   "cell_type": "code",
   "execution_count": 4,
   "id": "5186280f-3efc-4694-ba65-8d61703e3066",
   "metadata": {
    "tags": []
   },
   "outputs": [],
   "source": [
    "clean_train_data_blur = os.path.join('clean_data', 'train', 'blur')\n",
    "clean_train_data_sharp = os.path.join('clean_data', 'train', 'sharp')\n",
    "clean_test_data_blur = os.path.join('clean_data', 'test', 'blur')\n",
    "clean_test_data_sharp = os.path.join('clean_data', 'test', 'sharp')\n",
    "\n",
    "destination_folders = {\n",
    "    'train' : {\n",
    "        'blur' : clean_train_data_blur,\n",
    "        'sharp' : clean_train_data_sharp,\n",
    "    },\n",
    "    'test' : {\n",
    "        'blur' : clean_test_data_blur,\n",
    "        'sharp' : clean_test_data_sharp,\n",
    "    }\n",
    "}"
   ]
  },
  {
   "cell_type": "code",
   "execution_count": 20,
   "id": "6ef28013-0a3b-4cfa-bad1-51b5e51581e0",
   "metadata": {
    "tags": []
   },
   "outputs": [],
   "source": [
    "# Get train and test data and put it in clean folders\n",
    "data_type = ['train', 'test']\n",
    "for d in tqdm(data_type):\n",
    "    old_data_folder_path = os.path.join(data_path, d)\n",
    "    folder_names = os.listdir(old_data_folder_path)\n",
    "    # Take images from all subfolders\n",
    "    for folder_name in tqdm(folder_names):\n",
    "        folder_path = os.path.join(old_data_folder_path, folder_name)\n",
    "        image_types = ['blur', 'sharp']\n",
    "        for image_type in tqdm(image_types):\n",
    "            image_folder = os.path.join(folder_path, image_type)\n",
    "            image_filenames = os.listdir(image_folder)\n",
    "            destination_folder = destination_folders[d][image_type]\n",
    "            os.makedirs(destination_folder, exist_ok=True)\n",
    "            for filename in tqdm(image_filenames):\n",
    "                if filename[0]==\".\":\n",
    "                    continue\n",
    "                old_path = os.path.join(image_folder, filename)\n",
    "                # Rename files\n",
    "                new_path = os.path.join(destination_folder, f\"{folder_name}_{filename}\")\n",
    "                # Copy files into new train and test data folders\n",
    "                shutil.copy(old_path, new_path)"
   ]
  }
 ],
 "metadata": {
  "kernelspec": {
   "display_name": "pov",
   "language": "python",
   "name": "pov"
  },
  "language_info": {
   "codemirror_mode": {
    "name": "ipython",
    "version": 3
   },
   "file_extension": ".py",
   "mimetype": "text/x-python",
   "name": "python",
   "nbconvert_exporter": "python",
   "pygments_lexer": "ipython3",
   "version": "3.7.7"
  }
 },
 "nbformat": 4,
 "nbformat_minor": 5
}
